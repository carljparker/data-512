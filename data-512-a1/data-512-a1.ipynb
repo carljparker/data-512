{
 "cells": [
  {
   "cell_type": "markdown",
   "metadata": {},
   "source": [
    "This code is derived from code at:\n",
    "\n",
    "https://public.paws.wmcloud.org/User:Jtmorgan/data512_a1_example.ipynb\n"
   ]
  },
  {
   "cell_type": "code",
   "execution_count": 92,
   "metadata": {},
   "outputs": [],
   "source": [
    "import json\n",
    "import requests\n",
    "import pandas"
   ]
  },
  {
   "cell_type": "markdown",
   "metadata": {},
   "source": [
    "The following strings represent the HTTP endpoints for the two REST APIs that we'll use.\n",
    "\n",
    "The parameters for the APIs are encoded in these strings and are represented below by the URL segments that are in braces, such as `{granularity}`. These are placeholders that are replaced by values that we specify in blocks of JSON and pass into the function that makes the API call. (That function is defined later in this file.)"
   ]
  },
  {
   "cell_type": "code",
   "execution_count": 93,
   "metadata": {},
   "outputs": [],
   "source": [
    "endpoint_pageviews = 'https://wikimedia.org/api/rest_v1/metrics/pageviews/aggregate/{project}/{access}/{agent}/{granularity}/{start}/{end}'\n",
    "\n",
    "endpoint_legacy = 'https://wikimedia.org/api/rest_v1/metrics/legacy/pagecounts/aggregate/{project}/{access-site}/{granularity}/{start}/{end}'"
   ]
  },
  {
   "cell_type": "markdown",
   "metadata": {},
   "source": [
    "In this section, we specify blocks of JSON that contain the parameters for each of the **five** API calls that we make.\n",
    "\n",
    "The first **three** parameter blocks are for the Pageviews API. The following **two** parameter blocks are for the Pagecount (legacy) API."
   ]
  },
  {
   "cell_type": "code",
   "execution_count": 94,
   "metadata": {},
   "outputs": [],
   "source": [
    "#\n",
    "# Parameters for getting aggregated current standard pageview data\n",
    "#\n",
    "# See: https://wikimedia.org/api/rest_v1/#!/Pageviews_data/get_metrics_pageviews_aggregate_project_access_agent_granularity_start_end\n",
    "#\n",
    "params_pageviews_desktop = {\n",
    "                    \"project\" : \"en.wikipedia.org\",\n",
    "                    \"access\" : \"desktop\",\n",
    "                    \"agent\" : \"user\",\n",
    "                    \"granularity\" : \"monthly\",\n",
    "                    \"start\" : \"2015070100\",\n",
    "                    # for end use 1st day of month following final month of data\n",
    "                    \"end\" : '2020100100'\n",
    "                        }\n",
    "\n",
    "params_pageviews_mobile_app = {\n",
    "                    \"project\" : \"en.wikipedia.org\",\n",
    "                    \"access\" : \"mobile-app\",\n",
    "                    \"agent\" : \"user\",\n",
    "                    \"granularity\" : \"monthly\",\n",
    "                    \"start\" : \"2015070100\",\n",
    "                    # for end use 1st day of month following final month of data\n",
    "                    \"end\" : '2020100100'\n",
    "                        }\n",
    "\n",
    "params_pageviews_mobile_web = {\n",
    "                    \"project\" : \"en.wikipedia.org\",\n",
    "                    \"access\" : \"mobile-web\",\n",
    "                    \"agent\" : \"user\",\n",
    "                    \"granularity\" : \"monthly\",\n",
    "                    \"start\" : \"2015070100\",\n",
    "                    # for end use 1st day of month following final month of data\n",
    "                    \"end\" : '2020100100'\n",
    "                        }\n",
    "\n",
    "#\n",
    "# Parameters for getting aggregated legacy view data \n",
    "#\n",
    "# See: https://wikimedia.org/api/rest_v1/#!/Legacy_data/get_metrics_legacy_pagecounts_aggregate_project_access_site_granularity_start_end\n",
    "#\n",
    "params_pagecount_legacy_desktop = {\n",
    "                 \"project\" : \"en.wikipedia.org\",\n",
    "                 \"access-site\" : \"desktop-site\",\n",
    "                 \"granularity\" : \"monthly\",\n",
    "                 \"start\" : \"2008010100\",\n",
    "                 # for end use 1st day of month following final month of data\n",
    "                 \"end\" : \"2016080100\"\n",
    "                    }\n",
    "\n",
    "params_pagecount_legacy_mobile = {\n",
    "                 \"project\" : \"en.wikipedia.org\",\n",
    "                 \"access-site\" : \"mobile-site\",\n",
    "                 \"granularity\" : \"monthly\",\n",
    "                 \"start\" : \"2008010100\",\n",
    "                 # for end use 1st day of month following final month of data\n",
    "                 \"end\" : \"2016080100\"\n",
    "                    }\n"
   ]
  },
  {
   "cell_type": "code",
   "execution_count": null,
   "metadata": {},
   "outputs": [],
   "source": [
    "#\n",
    "# Identify myself in the headers of the HTTP request\n",
    "#\n",
    "headers = {\n",
    "    'User-Agent': 'https://github.com/carljparker',\n",
    "    'From': 'cajopa@uw.edu'\n",
    "}"
   ]
  },
  {
   "cell_type": "code",
   "execution_count": 95,
   "metadata": {},
   "outputs": [],
   "source": [
    "def api_call(endpoint,parameters):\n",
    "    call = requests.get(endpoint.format(**parameters), headers=headers)\n",
    "    response = call.json()\n",
    "    \n",
    "    return response"
   ]
  },
  {
   "cell_type": "code",
   "execution_count": 96,
   "metadata": {},
   "outputs": [],
   "source": [
    "monthly_pageviews = api_call(endpoint_pageviews, params_pageviews)"
   ]
  },
  {
   "cell_type": "code",
   "execution_count": 97,
   "metadata": {},
   "outputs": [
    {
     "data": {
      "text/plain": [
       "dict"
      ]
     },
     "execution_count": 97,
     "metadata": {},
     "output_type": "execute_result"
    }
   ],
   "source": [
    "type( monthly_pageviews )"
   ]
  },
  {
   "cell_type": "code",
   "execution_count": 98,
   "metadata": {},
   "outputs": [
    {
     "data": {
      "text/plain": [
       "list"
      ]
     },
     "execution_count": 98,
     "metadata": {},
     "output_type": "execute_result"
    }
   ],
   "source": [
    "type( monthly_pageviews['items'] )"
   ]
  },
  {
   "cell_type": "code",
   "execution_count": 99,
   "metadata": {},
   "outputs": [],
   "source": [
    "with open(\"pageviews_desktop_201507-202009.json\", \"w\") as write_file:\n",
    "    json.dump(monthly_pageviews, write_file)"
   ]
  },
  {
   "cell_type": "code",
   "execution_count": 100,
   "metadata": {},
   "outputs": [
    {
     "data": {
      "text/html": [
       "<div>\n",
       "<style scoped>\n",
       "    .dataframe tbody tr th:only-of-type {\n",
       "        vertical-align: middle;\n",
       "    }\n",
       "\n",
       "    .dataframe tbody tr th {\n",
       "        vertical-align: top;\n",
       "    }\n",
       "\n",
       "    .dataframe thead th {\n",
       "        text-align: right;\n",
       "    }\n",
       "</style>\n",
       "<table border=\"1\" class=\"dataframe\">\n",
       "  <thead>\n",
       "    <tr style=\"text-align: right;\">\n",
       "      <th></th>\n",
       "      <th>project</th>\n",
       "      <th>access</th>\n",
       "      <th>agent</th>\n",
       "      <th>granularity</th>\n",
       "      <th>timestamp</th>\n",
       "      <th>views</th>\n",
       "    </tr>\n",
       "  </thead>\n",
       "  <tbody>\n",
       "    <tr>\n",
       "      <th>0</th>\n",
       "      <td>en.wikipedia</td>\n",
       "      <td>desktop</td>\n",
       "      <td>user</td>\n",
       "      <td>monthly</td>\n",
       "      <td>2015070100</td>\n",
       "      <td>4376666686</td>\n",
       "    </tr>\n",
       "    <tr>\n",
       "      <th>1</th>\n",
       "      <td>en.wikipedia</td>\n",
       "      <td>desktop</td>\n",
       "      <td>user</td>\n",
       "      <td>monthly</td>\n",
       "      <td>2015080100</td>\n",
       "      <td>4332482183</td>\n",
       "    </tr>\n",
       "    <tr>\n",
       "      <th>2</th>\n",
       "      <td>en.wikipedia</td>\n",
       "      <td>desktop</td>\n",
       "      <td>user</td>\n",
       "      <td>monthly</td>\n",
       "      <td>2015090100</td>\n",
       "      <td>4485491704</td>\n",
       "    </tr>\n",
       "    <tr>\n",
       "      <th>3</th>\n",
       "      <td>en.wikipedia</td>\n",
       "      <td>desktop</td>\n",
       "      <td>user</td>\n",
       "      <td>monthly</td>\n",
       "      <td>2015100100</td>\n",
       "      <td>4477532755</td>\n",
       "    </tr>\n",
       "    <tr>\n",
       "      <th>4</th>\n",
       "      <td>en.wikipedia</td>\n",
       "      <td>desktop</td>\n",
       "      <td>user</td>\n",
       "      <td>monthly</td>\n",
       "      <td>2015110100</td>\n",
       "      <td>4287720220</td>\n",
       "    </tr>\n",
       "    <tr>\n",
       "      <th>...</th>\n",
       "      <td>...</td>\n",
       "      <td>...</td>\n",
       "      <td>...</td>\n",
       "      <td>...</td>\n",
       "      <td>...</td>\n",
       "      <td>...</td>\n",
       "    </tr>\n",
       "    <tr>\n",
       "      <th>58</th>\n",
       "      <td>en.wikipedia</td>\n",
       "      <td>desktop</td>\n",
       "      <td>user</td>\n",
       "      <td>monthly</td>\n",
       "      <td>2020050100</td>\n",
       "      <td>3078093615</td>\n",
       "    </tr>\n",
       "    <tr>\n",
       "      <th>59</th>\n",
       "      <td>en.wikipedia</td>\n",
       "      <td>desktop</td>\n",
       "      <td>user</td>\n",
       "      <td>monthly</td>\n",
       "      <td>2020060100</td>\n",
       "      <td>2721328557</td>\n",
       "    </tr>\n",
       "    <tr>\n",
       "      <th>60</th>\n",
       "      <td>en.wikipedia</td>\n",
       "      <td>desktop</td>\n",
       "      <td>user</td>\n",
       "      <td>monthly</td>\n",
       "      <td>2020070100</td>\n",
       "      <td>2638936132</td>\n",
       "    </tr>\n",
       "    <tr>\n",
       "      <th>61</th>\n",
       "      <td>en.wikipedia</td>\n",
       "      <td>desktop</td>\n",
       "      <td>user</td>\n",
       "      <td>monthly</td>\n",
       "      <td>2020080100</td>\n",
       "      <td>2613058239</td>\n",
       "    </tr>\n",
       "    <tr>\n",
       "      <th>62</th>\n",
       "      <td>en.wikipedia</td>\n",
       "      <td>desktop</td>\n",
       "      <td>user</td>\n",
       "      <td>monthly</td>\n",
       "      <td>2020090100</td>\n",
       "      <td>2661783500</td>\n",
       "    </tr>\n",
       "  </tbody>\n",
       "</table>\n",
       "<p>63 rows × 6 columns</p>\n",
       "</div>"
      ],
      "text/plain": [
       "         project   access agent granularity   timestamp       views\n",
       "0   en.wikipedia  desktop  user     monthly  2015070100  4376666686\n",
       "1   en.wikipedia  desktop  user     monthly  2015080100  4332482183\n",
       "2   en.wikipedia  desktop  user     monthly  2015090100  4485491704\n",
       "3   en.wikipedia  desktop  user     monthly  2015100100  4477532755\n",
       "4   en.wikipedia  desktop  user     monthly  2015110100  4287720220\n",
       "..           ...      ...   ...         ...         ...         ...\n",
       "58  en.wikipedia  desktop  user     monthly  2020050100  3078093615\n",
       "59  en.wikipedia  desktop  user     monthly  2020060100  2721328557\n",
       "60  en.wikipedia  desktop  user     monthly  2020070100  2638936132\n",
       "61  en.wikipedia  desktop  user     monthly  2020080100  2613058239\n",
       "62  en.wikipedia  desktop  user     monthly  2020090100  2661783500\n",
       "\n",
       "[63 rows x 6 columns]"
      ]
     },
     "execution_count": 100,
     "metadata": {},
     "output_type": "execute_result"
    }
   ],
   "source": [
    "pandas.read_json( json.dumps( monthly_pageviews[ 'items' ] ), orient='records', convert_dates = False )"
   ]
  },
  {
   "cell_type": "code",
   "execution_count": 101,
   "metadata": {},
   "outputs": [],
   "source": [
    "monthly_pagecount_legacy = api_call(endpoint_legacy, params_pagecount_legacy)"
   ]
  },
  {
   "cell_type": "code",
   "execution_count": null,
   "metadata": {},
   "outputs": [],
   "source": []
  },
  {
   "cell_type": "code",
   "execution_count": 102,
   "metadata": {},
   "outputs": [
    {
     "data": {
      "text/html": [
       "<div>\n",
       "<style scoped>\n",
       "    .dataframe tbody tr th:only-of-type {\n",
       "        vertical-align: middle;\n",
       "    }\n",
       "\n",
       "    .dataframe tbody tr th {\n",
       "        vertical-align: top;\n",
       "    }\n",
       "\n",
       "    .dataframe thead th {\n",
       "        text-align: right;\n",
       "    }\n",
       "</style>\n",
       "<table border=\"1\" class=\"dataframe\">\n",
       "  <thead>\n",
       "    <tr style=\"text-align: right;\">\n",
       "      <th></th>\n",
       "      <th>project</th>\n",
       "      <th>access-site</th>\n",
       "      <th>granularity</th>\n",
       "      <th>timestamp</th>\n",
       "      <th>count</th>\n",
       "    </tr>\n",
       "  </thead>\n",
       "  <tbody>\n",
       "    <tr>\n",
       "      <th>0</th>\n",
       "      <td>en.wikipedia</td>\n",
       "      <td>desktop-site</td>\n",
       "      <td>monthly</td>\n",
       "      <td>2008010100</td>\n",
       "      <td>4930902570</td>\n",
       "    </tr>\n",
       "    <tr>\n",
       "      <th>1</th>\n",
       "      <td>en.wikipedia</td>\n",
       "      <td>desktop-site</td>\n",
       "      <td>monthly</td>\n",
       "      <td>2008020100</td>\n",
       "      <td>4818393763</td>\n",
       "    </tr>\n",
       "    <tr>\n",
       "      <th>2</th>\n",
       "      <td>en.wikipedia</td>\n",
       "      <td>desktop-site</td>\n",
       "      <td>monthly</td>\n",
       "      <td>2008030100</td>\n",
       "      <td>4955405809</td>\n",
       "    </tr>\n",
       "    <tr>\n",
       "      <th>3</th>\n",
       "      <td>en.wikipedia</td>\n",
       "      <td>desktop-site</td>\n",
       "      <td>monthly</td>\n",
       "      <td>2008040100</td>\n",
       "      <td>5159162183</td>\n",
       "    </tr>\n",
       "    <tr>\n",
       "      <th>4</th>\n",
       "      <td>en.wikipedia</td>\n",
       "      <td>desktop-site</td>\n",
       "      <td>monthly</td>\n",
       "      <td>2008050100</td>\n",
       "      <td>5584691092</td>\n",
       "    </tr>\n",
       "    <tr>\n",
       "      <th>...</th>\n",
       "      <td>...</td>\n",
       "      <td>...</td>\n",
       "      <td>...</td>\n",
       "      <td>...</td>\n",
       "      <td>...</td>\n",
       "    </tr>\n",
       "    <tr>\n",
       "      <th>98</th>\n",
       "      <td>en.wikipedia</td>\n",
       "      <td>desktop-site</td>\n",
       "      <td>monthly</td>\n",
       "      <td>2016030100</td>\n",
       "      <td>5407676056</td>\n",
       "    </tr>\n",
       "    <tr>\n",
       "      <th>99</th>\n",
       "      <td>en.wikipedia</td>\n",
       "      <td>desktop-site</td>\n",
       "      <td>monthly</td>\n",
       "      <td>2016040100</td>\n",
       "      <td>5572235399</td>\n",
       "    </tr>\n",
       "    <tr>\n",
       "      <th>100</th>\n",
       "      <td>en.wikipedia</td>\n",
       "      <td>desktop-site</td>\n",
       "      <td>monthly</td>\n",
       "      <td>2016050100</td>\n",
       "      <td>5330532334</td>\n",
       "    </tr>\n",
       "    <tr>\n",
       "      <th>101</th>\n",
       "      <td>en.wikipedia</td>\n",
       "      <td>desktop-site</td>\n",
       "      <td>monthly</td>\n",
       "      <td>2016060100</td>\n",
       "      <td>4975092447</td>\n",
       "    </tr>\n",
       "    <tr>\n",
       "      <th>102</th>\n",
       "      <td>en.wikipedia</td>\n",
       "      <td>desktop-site</td>\n",
       "      <td>monthly</td>\n",
       "      <td>2016070100</td>\n",
       "      <td>5363966439</td>\n",
       "    </tr>\n",
       "  </tbody>\n",
       "</table>\n",
       "<p>103 rows × 5 columns</p>\n",
       "</div>"
      ],
      "text/plain": [
       "          project   access-site granularity   timestamp       count\n",
       "0    en.wikipedia  desktop-site     monthly  2008010100  4930902570\n",
       "1    en.wikipedia  desktop-site     monthly  2008020100  4818393763\n",
       "2    en.wikipedia  desktop-site     monthly  2008030100  4955405809\n",
       "3    en.wikipedia  desktop-site     monthly  2008040100  5159162183\n",
       "4    en.wikipedia  desktop-site     monthly  2008050100  5584691092\n",
       "..            ...           ...         ...         ...         ...\n",
       "98   en.wikipedia  desktop-site     monthly  2016030100  5407676056\n",
       "99   en.wikipedia  desktop-site     monthly  2016040100  5572235399\n",
       "100  en.wikipedia  desktop-site     monthly  2016050100  5330532334\n",
       "101  en.wikipedia  desktop-site     monthly  2016060100  4975092447\n",
       "102  en.wikipedia  desktop-site     monthly  2016070100  5363966439\n",
       "\n",
       "[103 rows x 5 columns]"
      ]
     },
     "execution_count": 102,
     "metadata": {},
     "output_type": "execute_result"
    }
   ],
   "source": [
    "pandas.read_json( json.dumps( monthly_pagecount_legacy[ 'items' ] ), orient='records', convert_dates = False )"
   ]
  },
  {
   "cell_type": "code",
   "execution_count": null,
   "metadata": {},
   "outputs": [],
   "source": []
  }
 ],
 "metadata": {
  "kernelspec": {
   "display_name": "Python [conda env:root] *",
   "language": "python",
   "name": "conda-root-py"
  },
  "language_info": {
   "codemirror_mode": {
    "name": "ipython",
    "version": 3
   },
   "file_extension": ".py",
   "mimetype": "text/x-python",
   "name": "python",
   "nbconvert_exporter": "python",
   "pygments_lexer": "ipython3",
   "version": "3.7.6"
  }
 },
 "nbformat": 4,
 "nbformat_minor": 4
}
